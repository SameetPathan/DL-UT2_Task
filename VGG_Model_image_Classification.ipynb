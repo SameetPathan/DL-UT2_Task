{
  "cells": [
    {
      "cell_type": "code",
      "execution_count": null,
      "metadata": {
        "_cell_guid": "b1076dfc-b9ad-4769-8c92-a6c4dae69d19",
        "_uuid": "8f2839f25d086af736a60e9eeb907d3b93b6e0e5",
        "execution": {
          "iopub.execute_input": "2023-04-08T14:08:20.936504Z",
          "iopub.status.busy": "2023-04-08T14:08:20.935799Z",
          "iopub.status.idle": "2023-04-08T14:08:23.651542Z",
          "shell.execute_reply": "2023-04-08T14:08:23.650381Z",
          "shell.execute_reply.started": "2023-04-08T14:08:20.936460Z"
        },
        "trusted": true,
        "id": "VuzCkzVBX_nq"
      },
      "outputs": [],
      "source": [
        "from keras.layers import Input, Lambda, Dense, Flatten, Dropout\n",
        "from keras.models import Model\n",
        "from keras.applications.vgg16 import VGG16\n",
        "from keras.applications.vgg16 import preprocess_input\n",
        "from keras.preprocessing import image\n",
        "from keras.preprocessing.image import ImageDataGenerator\n",
        "from keras.models import Sequential\n",
        "import numpy as np\n",
        "from glob import glob\n",
        "import matplotlib.pyplot as plt\n",
        "\n",
        "import warnings\n",
        "warnings.filterwarnings(\"ignore\", category=FutureWarning)"
      ]
    },
    {
      "cell_type": "code",
      "execution_count": null,
      "metadata": {
        "execution": {
          "iopub.execute_input": "2023-04-08T14:08:23.655032Z",
          "iopub.status.busy": "2023-04-08T14:08:23.653700Z",
          "iopub.status.idle": "2023-04-08T14:08:25.451603Z",
          "shell.execute_reply": "2023-04-08T14:08:25.450482Z",
          "shell.execute_reply.started": "2023-04-08T14:08:23.654990Z"
        },
        "trusted": true,
        "id": "ATF47uEwX_ny",
        "outputId": "c72ab872-f226-4088-e4b2-d26d59309520"
      },
      "outputs": [
        {
          "data": {
            "text/plain": [
              "<KerasTensor: shape=(None, 224, 224, 3) dtype=float32 (created by layer 'input_1')>"
            ]
          },
          "execution_count": 2,
          "metadata": {},
          "output_type": "execute_result"
        }
      ],
      "source": [
        "IMAGE_SIZE = [224, 224]\n",
        "vgg = VGG16(input_shape=IMAGE_SIZE + [3], weights='imagenet', include_top=False)\n",
        "vgg.input"
      ]
    },
    {
      "cell_type": "code",
      "execution_count": null,
      "metadata": {
        "execution": {
          "iopub.execute_input": "2023-04-08T14:08:25.454231Z",
          "iopub.status.busy": "2023-04-08T14:08:25.453127Z",
          "iopub.status.idle": "2023-04-08T14:08:25.534189Z",
          "shell.execute_reply": "2023-04-08T14:08:25.533388Z",
          "shell.execute_reply.started": "2023-04-08T14:08:25.454183Z"
        },
        "trusted": true,
        "id": "yOdWq4hGX_n0",
        "outputId": "578c94a0-4ee0-479a-f850-65fc1bc6936c"
      },
      "outputs": [
        {
          "name": "stdout",
          "output_type": "stream",
          "text": [
            "Model: \"model\"\n",
            "_________________________________________________________________\n",
            " Layer (type)                Output Shape              Param #   \n",
            "=================================================================\n",
            " input_1 (InputLayer)        [(None, 224, 224, 3)]     0         \n",
            "                                                                 \n",
            " block1_conv1 (Conv2D)       (None, 224, 224, 64)      1792      \n",
            "                                                                 \n",
            " block1_conv2 (Conv2D)       (None, 224, 224, 64)      36928     \n",
            "                                                                 \n",
            " block1_pool (MaxPooling2D)  (None, 112, 112, 64)      0         \n",
            "                                                                 \n",
            " block2_conv1 (Conv2D)       (None, 112, 112, 128)     73856     \n",
            "                                                                 \n",
            " block2_conv2 (Conv2D)       (None, 112, 112, 128)     147584    \n",
            "                                                                 \n",
            " block2_pool (MaxPooling2D)  (None, 56, 56, 128)       0         \n",
            "                                                                 \n",
            " block3_conv1 (Conv2D)       (None, 56, 56, 256)       295168    \n",
            "                                                                 \n",
            " block3_conv2 (Conv2D)       (None, 56, 56, 256)       590080    \n",
            "                                                                 \n",
            " block3_conv3 (Conv2D)       (None, 56, 56, 256)       590080    \n",
            "                                                                 \n",
            " block3_pool (MaxPooling2D)  (None, 28, 28, 256)       0         \n",
            "                                                                 \n",
            " block4_conv1 (Conv2D)       (None, 28, 28, 512)       1180160   \n",
            "                                                                 \n",
            " block4_conv2 (Conv2D)       (None, 28, 28, 512)       2359808   \n",
            "                                                                 \n",
            " block4_conv3 (Conv2D)       (None, 28, 28, 512)       2359808   \n",
            "                                                                 \n",
            " block4_pool (MaxPooling2D)  (None, 14, 14, 512)       0         \n",
            "                                                                 \n",
            " block5_conv1 (Conv2D)       (None, 14, 14, 512)       2359808   \n",
            "                                                                 \n",
            " block5_conv2 (Conv2D)       (None, 14, 14, 512)       2359808   \n",
            "                                                                 \n",
            " block5_conv3 (Conv2D)       (None, 14, 14, 512)       2359808   \n",
            "                                                                 \n",
            " block5_pool (MaxPooling2D)  (None, 7, 7, 512)         0         \n",
            "                                                                 \n",
            " flatten (Flatten)           (None, 25088)             0         \n",
            "                                                                 \n",
            " dropout (Dropout)           (None, 25088)             0         \n",
            "                                                                 \n",
            " dense (Dense)               (None, 58)                1455162   \n",
            "                                                                 \n",
            "=================================================================\n",
            "Total params: 16,169,850\n",
            "Trainable params: 16,169,850\n",
            "Non-trainable params: 0\n",
            "_________________________________________________________________\n"
          ]
        }
      ],
      "source": [
        "\n",
        "x = Flatten()(vgg.output)\n",
        "x = Dropout(0.25)(x)\n",
        "prediction = Dense(58, activation='softmax')(x)\n",
        "model = Model(inputs=vgg.input, outputs=prediction)\n",
        "model.summary()"
      ]
    },
    {
      "cell_type": "code",
      "execution_count": null,
      "metadata": {
        "execution": {
          "iopub.execute_input": "2023-04-08T14:08:25.537521Z",
          "iopub.status.busy": "2023-04-08T14:08:25.537138Z",
          "iopub.status.idle": "2023-04-08T14:08:25.549526Z",
          "shell.execute_reply": "2023-04-08T14:08:25.548600Z",
          "shell.execute_reply.started": "2023-04-08T14:08:25.537475Z"
        },
        "trusted": true,
        "id": "ijK3OZrFX_n1"
      },
      "outputs": [],
      "source": [
        "train_generator = ImageDataGenerator(validation_split=0.20,rescale=1./255, shear_range=0.1,\n",
        "    zoom_range=0.1,preprocessing_function = preprocess_input)\n",
        "image_generator = ImageDataGenerator(preprocessing_function = preprocess_input)"
      ]
    },
    {
      "cell_type": "code",
      "execution_count": null,
      "metadata": {
        "execution": {
          "iopub.execute_input": "2023-04-08T14:08:25.551245Z",
          "iopub.status.busy": "2023-04-08T14:08:25.550892Z",
          "iopub.status.idle": "2023-04-08T14:08:26.254388Z",
          "shell.execute_reply": "2023-04-08T14:08:26.253244Z",
          "shell.execute_reply.started": "2023-04-08T14:08:25.551204Z"
        },
        "trusted": true,
        "id": "WuadmFJQX_n2",
        "outputId": "f4c92754-46ee-42fa-8543-e002a6f57c7e"
      },
      "outputs": [
        {
          "name": "stdout",
          "output_type": "stream",
          "text": [
            "Found 13348 images belonging to 58 classes.\n",
            "Found 3305 images belonging to 58 classes.\n",
            "Found 232 images belonging to 58 classes.\n"
          ]
        }
      ],
      "source": [
        "# Create Data Loaders\n",
        "train_loader = train_generator.flow_from_directory(\n",
        "    directory = \"/kaggle/input/training-handwritten-marathi-character-fusion/Data_set\",\n",
        "    target_size = (224, 224),\n",
        "    batch_size = 32,\n",
        "    shuffle = True,\n",
        "    class_mode='categorical',\n",
        "    subset='training',\n",
        "    seed=42\n",
        ")\n",
        "\n",
        "valid_loader = train_generator.flow_from_directory(\n",
        "    directory = \"/kaggle/input/training-handwritten-marathi-character-fusion/Data_set\",\n",
        "    target_size = (224, 224),\n",
        "    batch_size = 32,\n",
        "    shuffle = True,\n",
        "    class_mode='categorical',\n",
        "    subset='validation',\n",
        "    seed=42\n",
        ")\n",
        "\n",
        "test_loader = image_generator.flow_from_directory(\n",
        "    directory = \"/kaggle/input/handwritten-marathi-character-dataset-of-4-people/Testing_Data\",\n",
        "    target_size = (224, 224),\n",
        "    batch_size = 32,\n",
        "    shuffle = True,\n",
        "    seed=42\n",
        ")\n"
      ]
    },
    {
      "cell_type": "code",
      "execution_count": null,
      "metadata": {
        "execution": {
          "iopub.execute_input": "2023-04-08T14:08:26.256855Z",
          "iopub.status.busy": "2023-04-08T14:08:26.256399Z",
          "iopub.status.idle": "2023-04-08T14:08:26.279489Z",
          "shell.execute_reply": "2023-04-08T14:08:26.278309Z",
          "shell.execute_reply.started": "2023-04-08T14:08:26.256813Z"
        },
        "trusted": true,
        "id": "5Cwf6zk-X_n3"
      },
      "outputs": [],
      "source": [
        "\n",
        "from keras import optimizers\n",
        "\n",
        "\n",
        "adam = optimizers.Adam()\n",
        "model.compile(loss='categorical_crossentropy',\n",
        "              optimizer=adam,\n",
        "              metrics=['accuracy'])\n",
        "# Train and Test Steps\n",
        "steps_train = len(train_loader)    # = round(num_train_images / batch_size)\n",
        "steps_valid = len(valid_loader)\n",
        "\n",
        "     "
      ]
    },
    {
      "cell_type": "code",
      "execution_count": null,
      "metadata": {
        "execution": {
          "iopub.execute_input": "2023-04-08T14:08:26.282338Z",
          "iopub.status.busy": "2023-04-08T14:08:26.281122Z",
          "iopub.status.idle": "2023-04-08T17:11:04.505130Z",
          "shell.execute_reply": "2023-04-08T17:11:04.503835Z",
          "shell.execute_reply.started": "2023-04-08T14:08:26.282297Z"
        },
        "trusted": true,
        "id": "TdR7SRAuX_n4",
        "outputId": "06a45a8e-932f-4996-a036-584a0fae4a37"
      },
      "outputs": [
        {
          "name": "stderr",
          "output_type": "stream",
          "text": [
            "/opt/conda/lib/python3.7/site-packages/ipykernel_launcher.py:6: UserWarning: `Model.fit_generator` is deprecated and will be removed in a future version. Please use `Model.fit`, which supports generators.\n",
            "  \n"
          ]
        },
        {
          "name": "stdout",
          "output_type": "stream",
          "text": [
            "Epoch 1/32\n",
            "418/418 [==============================] - 351s 824ms/step - loss: 0.0919 - accuracy: 0.0211 - val_loss: 0.0873 - val_accuracy: 0.0233\n",
            "Epoch 2/32\n",
            "418/418 [==============================] - 338s 808ms/step - loss: 0.0879 - accuracy: 0.0179 - val_loss: 0.0876 - val_accuracy: 0.0233\n",
            "Epoch 3/32\n",
            "418/418 [==============================] - 339s 810ms/step - loss: 0.0921 - accuracy: 0.0170 - val_loss: 0.0872 - val_accuracy: 0.0185\n",
            "Epoch 4/32\n",
            "418/418 [==============================] - 338s 809ms/step - loss: 0.0736 - accuracy: 0.1933 - val_loss: 0.0392 - val_accuracy: 0.6036\n",
            "Epoch 5/32\n",
            "418/418 [==============================] - 341s 817ms/step - loss: 0.0286 - accuracy: 0.7306 - val_loss: 0.0223 - val_accuracy: 0.8009\n",
            "Epoch 7/32\n",
            "418/418 [==============================] - 344s 822ms/step - loss: 0.0206 - accuracy: 0.8264 - val_loss: 0.0193 - val_accuracy: 0.8306\n",
            "Epoch 8/32\n",
            "418/418 [==============================] - 346s 826ms/step - loss: 0.0157 - accuracy: 0.8774 - val_loss: 0.0167 - val_accuracy: 0.8681\n",
            "Epoch 9/32\n",
            "418/418 [==============================] - 344s 823ms/step - loss: 0.0129 - accuracy: 0.9044 - val_loss: 0.0152 - val_accuracy: 0.8717\n",
            "Epoch 10/32\n",
            "418/418 [==============================] - 341s 816ms/step - loss: 0.0104 - accuracy: 0.9287 - val_loss: 0.0145 - val_accuracy: 0.8850\n",
            "Epoch 11/32\n",
            "418/418 [==============================] - 340s 813ms/step - loss: 0.0090 - accuracy: 0.9404 - val_loss: 0.0155 - val_accuracy: 0.8896\n",
            "Epoch 12/32\n",
            "418/418 [==============================] - 342s 819ms/step - loss: 0.0078 - accuracy: 0.9535 - val_loss: 0.0138 - val_accuracy: 0.8929\n",
            "Epoch 13/32\n",
            "418/418 [==============================] - 349s 836ms/step - loss: 0.0065 - accuracy: 0.9640 - val_loss: 0.0129 - val_accuracy: 0.9068\n",
            "Epoch 14/32\n",
            "418/418 [==============================] - 346s 826ms/step - loss: 0.0059 - accuracy: 0.9665 - val_loss: 0.0134 - val_accuracy: 0.8947\n",
            "Epoch 15/32\n",
            "418/418 [==============================] - 338s 808ms/step - loss: 0.0053 - accuracy: 0.9716 - val_loss: 0.0131 - val_accuracy: 0.9129\n",
            "Epoch 16/32\n",
            "418/418 [==============================] - 337s 807ms/step - loss: 0.0047 - accuracy: 0.9750 - val_loss: 0.0159 - val_accuracy: 0.9116\n",
            "Epoch 17/32\n",
            "418/418 [==============================] - 339s 810ms/step - loss: 0.0047 - accuracy: 0.9766 - val_loss: 0.0127 - val_accuracy: 0.9071\n",
            "Epoch 18/32\n",
            "418/418 [==============================] - 339s 812ms/step - loss: 0.0040 - accuracy: 0.9801 - val_loss: 0.0137 - val_accuracy: 0.9183\n",
            "Epoch 19/32\n",
            "418/418 [==============================] - 341s 815ms/step - loss: 0.0038 - accuracy: 0.9821 - val_loss: 0.0153 - val_accuracy: 0.9014\n",
            "Epoch 20/32\n",
            "418/418 [==============================] - 342s 818ms/step - loss: 0.0035 - accuracy: 0.9842 - val_loss: 0.0163 - val_accuracy: 0.9068\n",
            "Epoch 21/32\n",
            "418/418 [==============================] - 339s 812ms/step - loss: 0.0043 - accuracy: 0.9795 - val_loss: 0.0131 - val_accuracy: 0.9120\n",
            "Epoch 22/32\n",
            "418/418 [==============================] - 382s 914ms/step - loss: 0.0028 - accuracy: 0.9885 - val_loss: 0.0132 - val_accuracy: 0.9156\n",
            "Epoch 23/32\n",
            "418/418 [==============================] - 344s 823ms/step - loss: 0.0029 - accuracy: 0.9888 - val_loss: 0.0149 - val_accuracy: 0.9126\n",
            "Epoch 24/32\n",
            "418/418 [==============================] - 340s 812ms/step - loss: 0.0026 - accuracy: 0.9888 - val_loss: 0.0131 - val_accuracy: 0.9101\n",
            "Epoch 25/32\n",
            "418/418 [==============================] - 340s 814ms/step - loss: 0.0029 - accuracy: 0.9873 - val_loss: 0.0133 - val_accuracy: 0.9195\n",
            "Epoch 26/32\n",
            "418/418 [==============================] - 339s 811ms/step - loss: 0.0026 - accuracy: 0.9887 - val_loss: 0.0181 - val_accuracy: 0.9092\n",
            "Epoch 27/32\n",
            "418/418 [==============================] - 338s 809ms/step - loss: 0.0028 - accuracy: 0.9886 - val_loss: 0.0144 - val_accuracy: 0.9186\n",
            "Epoch 28/32\n",
            "418/418 [==============================] - 339s 811ms/step - loss: 0.0021 - accuracy: 0.9934 - val_loss: 0.0139 - val_accuracy: 0.9159\n",
            "Epoch 29/32\n",
            "418/418 [==============================] - 339s 812ms/step - loss: 0.0024 - accuracy: 0.9905 - val_loss: 0.0150 - val_accuracy: 0.9247\n",
            "Epoch 30/32\n",
            "418/418 [==============================] - 340s 814ms/step - loss: 0.0021 - accuracy: 0.9930 - val_loss: 0.0142 - val_accuracy: 0.9247\n",
            "Epoch 31/32\n",
            "418/418 [==============================] - 340s 815ms/step - loss: 0.0051 - accuracy: 0.9788 - val_loss: 0.0158 - val_accuracy: 0.9216\n",
            "Epoch 32/32\n",
            "418/418 [==============================] - 341s 816ms/step - loss: 0.0019 - accuracy: 0.9930 - val_loss: 0.0170 - val_accuracy: 0.9231\n"
          ]
        }
      ],
      "source": [
        "model_history=model.fit_generator(\n",
        "  train_loader,\n",
        "  validation_data=valid_loader,\n",
        "  epochs=32,\n",
        "  steps_per_epoch=steps_train,\n",
        "  validation_steps=steps_valid,\n",
        ")"
      ]
    },
    {
      "cell_type": "code",
      "execution_count": null,
      "metadata": {
        "execution": {
          "iopub.execute_input": "2023-04-08T17:11:04.507895Z",
          "iopub.status.busy": "2023-04-08T17:11:04.507485Z",
          "iopub.status.idle": "2023-04-08T17:11:04.733846Z",
          "shell.execute_reply": "2023-04-08T17:11:04.732837Z",
          "shell.execute_reply.started": "2023-04-08T17:11:04.507847Z"
        },
        "trusted": true,
        "id": "4UmU13oPX_n5",
        "outputId": "8d3866e8-24e5-41ac-d2c8-ce0472defb2c"
      },
      "outputs": [
        {
          "data": {
            "image/png": "[encoded data removed]",
            "text/plain": [
              "<Figure size 640x480 with 1 Axes>"
            ]
          },
          "metadata": {},
          "output_type": "display_data"
        }
      ],
      "source": [
        "_# Plot training & validation loss values\n",
        "plt.plot(model_history.history['accuracy'])\n",
        "plt.plot(model_history.history['val_accuracy'])\n",
        "plt.title('CNN Model accuracy values')\n",
        "plt.ylabel('Accuracy')\n",
        "plt.xlabel('Epoch')\n",
        "plt.legend(['Train', 'Validation'], loc='upper left')\n",
        "plt.show()"
      ]
    },
    {
      "cell_type": "code",
      "execution_count": null,
      "metadata": {
        "execution": {
          "iopub.execute_input": "2023-04-08T17:11:04.736712Z",
          "iopub.status.busy": "2023-04-08T17:11:04.735208Z",
          "iopub.status.idle": "2023-04-08T17:11:10.492450Z",
          "shell.execute_reply": "2023-04-08T17:11:10.491227Z",
          "shell.execute_reply.started": "2023-04-08T17:11:04.736665Z"
        },
        "trusted": true,
        "id": "_SCRbyggX_oA",
        "outputId": "e1d04f51-a489-4fab-e610-6bbf0f8a93e6"
      },
      "outputs": [
        {
          "name": "stdout",
          "output_type": "stream",
          "text": [
            "Found 232 images belonging to 58 classes.\n",
            "8/8 [==============================] - 3s 348ms/step - loss: 9.4408 - accuracy: 0.6207\n"
          ]
        },
        {
          "data": {
            "text/plain": [
              "[9.440812110900879, 0.6206896305084229]"
            ]
          },
          "execution_count": 9,
          "metadata": {},
          "output_type": "execute_result"
        }
      ],
      "source": [
        "test_loader = image_generator.flow_from_directory(\n",
        "    directory = \"/kaggle/input/handwritten-marathi-character-dataset-of-4-people/Testing_Data/\",\n",
        "    target_size = (224, 224),\n",
        "    batch_size = 32,\n",
        "    shuffle = True,\n",
        "    seed=42\n",
        ")\n",
        "\n",
        "model.evaluate(test_loader)"
      ]
    }
  ],
  "metadata": {
    "kernelspec": {
      "display_name": "Python 3",
      "language": "python",
      "name": "python3"
    },
    "language_info": {
      "codemirror_mode": {
        "name": "ipython",
        "version": 3
      },
      "file_extension": ".py",
      "mimetype": "text/x-python",
      "name": "python",
      "nbconvert_exporter": "python",
      "pygments_lexer": "ipython3",
      "version": "3.7.12"
    },
    "colab": {
      "provenance": []
    }
  },
  "nbformat": 4,
  "nbformat_minor": 0
}